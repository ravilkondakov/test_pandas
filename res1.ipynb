{
 "cells": [
  {
   "cell_type": "code",
   "execution_count": 136,
   "metadata": {
    "scrolled": true
   },
   "outputs": [
    {
     "data": {
      "text/plain": [
       "35.15141440758294"
      ]
     },
     "execution_count": 136,
     "metadata": {},
     "output_type": "execute_result"
    }
   ],
   "source": [
    "import pandas as pd\n",
    "\n",
    "payments = pd.read_csv('payments.csv')\n",
    "spent = pd.read_csv('spent.csv')\n",
    "\n",
    "android_df = payments.drop(payments[payments.os != 'android'].index).sort_values(['ts','app_revenue']).drop(android_df[android_df.ts !='2020-08-15 04:02:21.559178'].index)\n",
    "#android_df1 = android_df.drop(android_df[android_df.ts !='2020-08-15 04:02:21.559178'].index)\n",
    "\n",
    "ios_df = payments.drop(payments[payments.os != 'ios'].index).sort_values(['ts','app_revenue']).drop(ios_df[ios_df.ts !='2020-08-15 04:02:21.559178'].index)\n",
    "#ios_df1 = ios_df.drop(ios_df[ios_df.ts !='2020-08-15 04:02:21.559178'].index)\n",
    "\n",
    "\n",
    "one = android_df['app_revenue'].sum()\n",
    "two = android_df['unique_purchases'].sum()\n",
    "andro = one/two\n",
    "\n",
    "ios_one = ios_df1['app_revenue'].sum()\n",
    "ios_two = ios_df1['unique_purchases'].sum()\n",
    "iosph = ios_one/ios_two"
   ]
  },
  {
   "cell_type": "code",
   "execution_count": null,
   "metadata": {},
   "outputs": [],
   "source": []
  }
 ],
 "metadata": {
  "kernelspec": {
   "display_name": "Python 3",
   "language": "python",
   "name": "python3"
  },
  "language_info": {
   "codemirror_mode": {
    "name": "ipython",
    "version": 3
   },
   "file_extension": ".py",
   "mimetype": "text/x-python",
   "name": "python",
   "nbconvert_exporter": "python",
   "pygments_lexer": "ipython3",
   "version": "3.8.5"
  }
 },
 "nbformat": 4,
 "nbformat_minor": 4
}
