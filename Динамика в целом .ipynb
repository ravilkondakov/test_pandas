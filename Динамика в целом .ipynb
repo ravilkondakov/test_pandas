{
 "cells": [
  {
   "cell_type": "code",
   "execution_count": 16,
   "metadata": {},
   "outputs": [
    {
     "name": "stdout",
     "output_type": "stream",
     "text": [
      "1.7027879669397978 32.903543075021304 19.483663553901355\n"
     ]
    }
   ],
   "source": [
    "import pandas as pd\n",
    "\n",
    "payments = pd.read_csv('payments.csv')\n",
    "spent = pd.read_csv('spent.csv')\n",
    "\n",
    "conversion_1 =  spent['clicks'].sum()/spent['impressions'].sum()*100\n",
    "\n",
    "conversion_2 = spent['installs'].sum()/spent['clicks'].sum()*100\n",
    "\n",
    "conversion_3 = payments['unique_purchases'].sum()/payments['purchases'].sum()*100\n",
    "\n",
    "\n",
    "print (conversion_1, conversion_2, conversion_3)\n",
    "\n",
    "\n",
    "# В целом наблюдается положительная динамика 1.7 на втором шаге и 32,9 на третьем\n",
    "# Но на 4-ом шаге ситуация обратная, так как конверсия начинает снижаться. \n",
    "# 'TV', 'GN', 'GM', 'TM', 'GQ', 'TO', 'LS', 'RW', 'DZ', 'AL' имеют хорошие показатели вовлеченности; необходимо провести А/B тесты, чтоб большая часть из них станавливали приложение и совершали покупки.\n",
    "\n",
    "# 'BM', 'BA', 'CR', 'DO', 'MQ', 'GH', 'SV', 'PE', 'PK', 'HN', 'RS', 'AR' - имеют хорошие показатели, прибыль в данном сегменте выше, чем в остальных\n",
    "\n",
    "#  'IE', 'EC', 'JO', 'CO', 'LU', 'NC', 'NZ', 'SK', 'SG', 'IN', 'PH', 'DZ','TH', 'HR', 'MY', 'LT', 'VN', 'NO', 'GE', 'CZ', 'GR', 'IQ', 'ID', 'KR','BR', 'DK', 'ZA', 'ES', 'UY', 'HU', 'MX', 'CA', 'MA', 'AS', 'CL', 'TR','PA', 'UK', 'SA', 'AT', 'NL', 'FR', 'UA', 'BY', 'RU', 'TW', 'LB', 'PL','VG', 'BE', 'HK' \n",
    "# находятся в серой зоне,  для улучшения их перфоманса нужно провести А/В тесты, выявить слабые стороны приложения, узнать как можно их ещё больше простимулировать соверщать покупки.\n",
    "\n",
    "\n",
    "# 'DE', 'KW', 'US', 'RO', 'IT', 'SE', 'KZ', 'AE', 'EG', 'QA', 'IS', 'IR', 'HT', 'GY', 'GU', 'GT', 'GQ', 'GP', 'GN', 'ZW'\n",
    "\n",
    "#  скорее всего безнадежны и на них не стоит тратить бюджеты.\n",
    "\n",
    "\n",
    "\n"
   ]
  }
 ],
 "metadata": {
  "kernelspec": {
   "display_name": "Python 3",
   "language": "python",
   "name": "python3"
  },
  "language_info": {
   "codemirror_mode": {
    "name": "ipython",
    "version": 3
   },
   "file_extension": ".py",
   "mimetype": "text/x-python",
   "name": "python",
   "nbconvert_exporter": "python",
   "pygments_lexer": "ipython3",
   "version": "3.8.5"
  }
 },
 "nbformat": 4,
 "nbformat_minor": 4
}
