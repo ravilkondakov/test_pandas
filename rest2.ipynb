{
 "cells": [
  {
   "cell_type": "code",
   "execution_count": 10,
   "metadata": {},
   "outputs": [
    {
     "data": {
      "text/plain": [
       "0.5569738854597795"
      ]
     },
     "execution_count": 10,
     "metadata": {},
     "output_type": "execute_result"
    }
   ],
   "source": [
    "import pandas as pd\n",
    "\n",
    "payments = pd.read_csv('payments.csv')\n",
    "spent = pd.read_csv('spent.csv')\n",
    "\n",
    "new_df = payments['ts'].str.split(' ', expand=True)\n",
    "new_df.columns = ['ts_date','ts_time']\n",
    "payments_df = pd.concat([new_df, payments], axis=1)\n",
    "\n",
    "# превращаю в формат даты\n",
    "payments_df['date'] = pd.to_datetime(payments_df['date'], format='%Y-%m-%d')\n",
    "payments_df['ts_date'] = pd.to_datetime(payments_df['ts_date'], format='%Y-%m-%d')\n",
    "# вычитаю из тс дату и фильтрую по 28 дням\n",
    "payments_df['days'] = payments_df['ts_date'].sub(payments_df['date'], axis=0)\n",
    "payments_df = payments_df.sort_values('days').drop(payments_df[payments_df.days != '28 days'].index)\n",
    "# группирую по сумме дней\n",
    "\n",
    "pay_pivot = payments_df.pivot_table(index='date', columns=['os'], values=['app_revenue'], aggfunc='sum')\n",
    "\n",
    "# группирую по месяцам\n",
    "payments = pay_pivot.groupby(pd.Grouper(freq='M')).sum()\n",
    "\n",
    "\n",
    "# превращаю в формат даты\n",
    "spent['date'] = pd.to_datetime(spent['date'], format='%Y-%m-%d')\n",
    "\n",
    "# группирую по сумме дней\n",
    "spent.groupby(['date']).sum()\n",
    "\n",
    "# ////////\n",
    "\n",
    "# Сводная таблица\n",
    "spent_pivot = spent.pivot_table(index= 'date', columns = ['os'] , values= ['spend'] , aggfunc='sum')\n",
    "\n",
    "# группирую по месяцам\n",
    "spent = spent_pivot.groupby(pd.Grouper(freq='M')).sum()\n",
    "\n",
    "# нахожу разницу между доходами и затратами\n",
    "android = payments.app_revenue['android'].sub(spent.spend['android'])\n",
    "ios = payments.app_revenue['ios'].sub(spent.spend['ios'])\n",
    "\n",
    "\n",
    "# нахождение темпа роста\n",
    "ios = ios[0]/ios[1]\n",
    "android = android[0]/android[1]\n",
    "\n",
    "android"
   ]
  }
 ],
 "metadata": {
  "kernelspec": {
   "display_name": "Python 3",
   "language": "python",
   "name": "python3"
  },
  "language_info": {
   "codemirror_mode": {
    "name": "ipython",
    "version": 3
   },
   "file_extension": ".py",
   "mimetype": "text/x-python",
   "name": "python",
   "nbconvert_exporter": "python",
   "pygments_lexer": "ipython3",
   "version": "3.8.5"
  }
 },
 "nbformat": 4,
 "nbformat_minor": 4
}
