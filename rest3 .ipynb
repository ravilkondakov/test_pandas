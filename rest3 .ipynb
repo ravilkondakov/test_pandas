{
 "cells": [
  {
   "cell_type": "code",
   "execution_count": 284,
   "metadata": {},
   "outputs": [
    {
     "name": "stdout",
     "output_type": "stream",
     "text": [
      "         clicks  impressions  installs     spend  conversion\n",
      "country                                                     \n",
      "GN           14          161         1  0.340002    8.695652\n",
      "GM            2           23         1  0.100004    8.695652\n",
      "TM            3           41         0  0.140000    7.317073\n",
      "GQ            2           31         1  0.130000    6.451613\n",
      "TO            5           78         0  0.260000    6.410256\n",
      "...         ...          ...       ...       ...         ...\n",
      "ER            0            3         0  0.010000    0.000000\n",
      "FK            0           37         0  0.150000    0.000000\n",
      "PM            0           98         0  0.400027    0.000000\n",
      "FM            0           21         0  0.090000    0.000000\n",
      "KM            0           54         0  0.150000    0.000000\n",
      "\n",
      "[223 rows x 5 columns]\n"
     ]
    },
    {
     "data": {
      "text/plain": [
       "<AxesSubplot:xlabel='country'>"
      ]
     },
     "execution_count": 284,
     "metadata": {},
     "output_type": "execute_result"
    },
    {
     "data": {
      "image/png": "[encoded data removed]",
      "text/plain": [
       "<Figure size 432x288 with 1 Axes>"
      ]
     },
     "metadata": {},
     "output_type": "display_data"
    }
   ],
   "source": [
    "import pandas as pd\n",
    "import numpy as np\n",
    "import matplotlib\n",
    "import matplotlib.pyplot as plt\n",
    "\n",
    "payments = pd.read_csv('payments.csv')\n",
    "spent = pd.read_csv('spent.csv')\n",
    "\n",
    "# убираем значения inf\n",
    "spent = spent.replace(np.inf, 0)\n",
    "\n",
    "# сводная по стране\n",
    "spent_pivot = spent.pivot_table(index='country', values=spent[1:-1], aggfunc='sum')\n",
    "\n",
    "# конверсия на втором шаге \n",
    "spent_pivot['conversion'] = spent_pivot['clicks'].div(spent_pivot.impressions).mul(100)\n",
    "\n",
    "spent_pivot = spent_pivot.sort_values('conversion', ascending=False)\n",
    "# убрать нулевые значения\n",
    "# spent_pivot = spent_pivot.loc[spent_pivot.clicks !=0].sort_values('conversion', ascending=False)\n",
    "\n",
    "\n",
    "# убрать большое значение\n",
    "spent_pivot = spent_pivot[spent_pivot.index.get_level_values('country') != 'TV']\n",
    "\n",
    "\n",
    "\n",
    "# сортировка на положительные и отрицательные значения \n",
    "# spent_pivot['q'] = np.where(spent_pivot.conversion < 5, 'bad', 'good' )\n",
    "# conv_good = spent_pivot[spent_pivot['q'] == 'good'].count()\n",
    "# conv_bad = spent_pivot[spent_pivot['q'] == 'bad'].count()\n",
    "print(spent_pivot)\n",
    "\n",
    "matplotlib.style.use('ggplot')\n",
    "spent_pivot.set_index(spent_pivot.index.get_level_values('country'))['conversion'].plot()"
   ]
  },
  {
   "cell_type": "code",
   "execution_count": 286,
   "metadata": {
    "scrolled": true
   },
   "outputs": [
    {
     "name": "stdout",
     "output_type": "stream",
     "text": [
      "         clicks  impressions  installs     spend  conversion\n",
      "country                                                     \n",
      "MO            1          200         1  1.620055       100.0\n",
      "LS            1           16         1  0.080000       100.0\n",
      "BI            1           41         1  0.170000       100.0\n",
      "SX            1          153         1  0.550000       100.0\n",
      "GD            1          178         1  0.469996       100.0\n",
      "...         ...          ...       ...       ...         ...\n",
      "ER            0            3         0  0.010000         0.0\n",
      "FK            0           37         0  0.150000         0.0\n",
      "PM            0           98         0  0.400027         0.0\n",
      "FM            0           21         0  0.090000         0.0\n",
      "KM            0           54         0  0.150000         0.0\n",
      "\n",
      "[223 rows x 5 columns]\n"
     ]
    },
    {
     "data": {
      "text/plain": [
       "<AxesSubplot:xlabel='country'>"
      ]
     },
     "execution_count": 286,
     "metadata": {},
     "output_type": "execute_result"
    },
    {
     "data": {
      "image/png": "[encoded data removed]",
      "text/plain": [
       "<Figure size 432x288 with 1 Axes>"
      ]
     },
     "metadata": {},
     "output_type": "display_data"
    }
   ],
   "source": [
    "\n",
    "# конверсия на третьем шаге \n",
    "spent_pivot['conversion'] = spent_pivot['installs'].div(spent_pivot.clicks).mul(100)\n",
    "spent_pivot = spent_pivot.sort_values('conversion', ascending=False)\n",
    "spent_pivot = spent_pivot.replace(np.NAN, 0)\n",
    "print(spent_pivot)\n",
    "matplotlib.style.use('ggplot')\n",
    "spent_pivot.set_index(spent_pivot.index.get_level_values('country'))['conversion'].plot()"
   ]
  },
  {
   "cell_type": "code",
   "execution_count": 295,
   "metadata": {},
   "outputs": [
    {
     "name": "stdout",
     "output_type": "stream",
     "text": [
      "         app_revenue  purchases  unique_purchases  conversion       abc  \\\n",
      "country                                                                   \n",
      "BM          19.90000         10                10  100.000000  3.372394   \n",
      "BA         184.81355         52                52  100.000000  3.372394   \n",
      "CR          58.39028         26                26  100.000000  3.372394   \n",
      "DO          31.92000         28                28  100.000000  3.372394   \n",
      "MQ          29.92572         27                27  100.000000  3.372394   \n",
      "GH          38.14052         22                22  100.000000  3.372394   \n",
      "SV          72.30000         48                48  100.000000  3.372394   \n",
      "PE          39.38180         36                36  100.000000  3.372394   \n",
      "PK          64.09179         21                21  100.000000  3.372394   \n",
      "HN         146.71000         55                55  100.000000  3.372394   \n",
      "RS         101.79340         57                42   73.684211  2.484922   \n",
      "AR        1094.08000        151               111   73.509934  2.479045   \n",
      "\n",
      "           abc_cum  \n",
      "country             \n",
      "BM        3.372394  \n",
      "BA        6.744789  \n",
      "CR       10.117183  \n",
      "DO       13.489578  \n",
      "MQ       16.861972  \n",
      "GH       20.234367  \n",
      "SV       23.606761  \n",
      "PE       26.979156  \n",
      "PK       30.351550  \n",
      "HN       33.723945  \n",
      "RS       36.208867  \n",
      "AR       38.687912  \n"
     ]
    },
    {
     "data": {
      "text/plain": [
       "<AxesSubplot:xlabel='country'>"
      ]
     },
     "execution_count": 295,
     "metadata": {},
     "output_type": "execute_result"
    },
    {
     "data": {
      "image/png": "[encoded data removed]",
      "text/plain": [
       "<Figure size 432x288 with 1 Axes>"
      ]
     },
     "metadata": {},
     "output_type": "display_data"
    }
   ],
   "source": [
    "# сводная по стране\n",
    "payments_pivot = payments.pivot_table(index='country', values=payments[3:-1], aggfunc='sum')\n",
    "\n",
    "# конверсия на четвёртом шаге\n",
    "payments_pivot['conversion'] = payments_pivot['unique_purchases'].div(payments_pivot.purchases).mul(100)\n",
    "payments_pivot = payments_pivot.replace(np.NaN, 0)\n",
    "payments_pivot = payments_pivot.sort_values('conversion', ascending=False)\n",
    "\n",
    "# АВС анализ\n",
    "# Находим долю каждой конверсии\n",
    "payments_pivot['abc'] = payments_pivot.groupby('country').conversion.transform('sum')/payments_pivot.conversion.sum()*100\n",
    "# Поиск накопления\n",
    "payments_pivot[\"abc_cum\"] = payments_pivot[\"abc\"].cumsum()\n",
    "# Сегмент группы А\n",
    "payments_pivot_A = payments_pivot.drop(payments_pivot[payments_pivot['abc_cum'] >= 40].index)\n",
    "# Сегмент группы В\n",
    "payments_pivot_B = payments_pivot.loc[(payments_pivot['abc_cum'] > 40) & (payments_pivot['abc_cum'] < 90)]\n",
    "# Сегмент группы С\n",
    "payments_pivot_C = payments_pivot.drop(payments_pivot[payments_pivot['abc_cum'] <= 90].index)\n",
    "\n",
    "print(payments_pivot_A)\n",
    "\n",
    "\n",
    "matplotlib.style.use('ggplot')\n",
    "payments_pivot.set_index(payments_pivot.index.get_level_values('country'))['conversion'].plot()"
   ]
  },
  {
   "cell_type": "code",
   "execution_count": null,
   "metadata": {},
   "outputs": [],
   "source": []
  }
 ],
 "metadata": {
  "kernelspec": {
   "display_name": "Python 3",
   "language": "python",
   "name": "python3"
  },
  "language_info": {
   "codemirror_mode": {
    "name": "ipython",
    "version": 3
   },
   "file_extension": ".py",
   "mimetype": "text/x-python",
   "name": "python",
   "nbconvert_exporter": "python",
   "pygments_lexer": "ipython3",
   "version": "3.8.5"
  }
 },
 "nbformat": 4,
 "nbformat_minor": 4
}
